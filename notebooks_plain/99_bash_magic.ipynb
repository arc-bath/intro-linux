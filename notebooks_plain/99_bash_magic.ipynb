{
 "cells": [
  {
   "cell_type": "markdown",
   "metadata": {},
   "source": [
    "# Setup\n",
    "\n",
    "We recommend you follow this course in a jupyter notebook which includes the course material and it's own terminal. If for whatever reason you don't see below for setup on your own machine."
   ]
  },
  {
   "cell_type": "markdown",
   "metadata": {},
   "source": [
    "## Jupyter Notebook\n",
    "\n",
    "Jupyter notebooks contain bash 'magic' which executes terminal commands within the jupyter interface. We have modified one of these for the purpose of this training, so where you see %%bash2 this is what you should run in a terminal."
   ]
  },
  {
   "cell_type": "code",
   "execution_count": 1,
   "metadata": {},
   "outputs": [
    {
     "name": "stdout",
     "output_type": "stream",
     "text": [
      "This will be output\n"
     ]
    }
   ],
   "source": [
    "%%bash2\n",
    "# This is a comment\n",
    "echo \"This will be output\""
   ]
  },
  {
   "cell_type": "markdown",
   "metadata": {},
   "source": [
    "Slide Type\n",
    "\n",
    "You can also use the %%bash2 magic to keep your solutions to exercises in the notebook as a record. They will still be executed at the command line, so be careful! We can extract the files for this training by unzipping the data-shell.zip file in the repository. This can be done by executing the cell below:\n"
   ]
  },
  {
   "cell_type": "code",
   "execution_count": 2,
   "metadata": {},
   "outputs": [],
   "source": [
    "%%bash2 --dir ..\n",
    "unzip -q data-shell.zip "
   ]
  },
  {
   "cell_type": "markdown",
   "metadata": {},
   "source": [
    "Slide Type\n",
    "\n",
    "We can check this has suceeded by changing into the newly created data-shell directory, using the bash2 magic and listing the contents (see the first lesson for more information)."
   ]
  },
  {
   "cell_type": "code",
   "execution_count": 3,
   "metadata": {},
   "outputs": [
    {
     "name": "stdout",
     "output_type": "stream",
     "text": [
      "[Errno 2] No such file or directory: 'data-shell'\n"
     ]
    }
   ],
   "source": [
    "%%bash2 --dir data-shell\n",
    "ls"
   ]
  },
  {
   "cell_type": "markdown",
   "metadata": {},
   "source": [
    "You are now ready to begin lesson 1."
   ]
  }
 ],
 "metadata": {
  "kernelspec": {
   "display_name": "Python 3",
   "language": "python",
   "name": "python3"
  },
  "language_info": {
   "codemirror_mode": {
    "name": "ipython",
    "version": 3
   },
   "file_extension": ".py",
   "mimetype": "text/x-python",
   "name": "python",
   "nbconvert_exporter": "python",
   "pygments_lexer": "ipython3",
   "version": "3.6.6"
  }
 },
 "nbformat": 4,
 "nbformat_minor": 2
}
