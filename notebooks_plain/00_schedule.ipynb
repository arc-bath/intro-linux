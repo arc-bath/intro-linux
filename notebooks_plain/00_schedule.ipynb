{
 "cells": [
  {
   "cell_type": "markdown",
   "metadata": {
    "slideshow": {
     "slide_type": "slide"
    }
   },
   "source": [
    "# The Unix Shell\n",
    "\n",
    "The Unix shell has been around longer than most of its users have been alive. It has survived so long because it's a power tool that allows people to do complex things with just a few keystrokes. More importantly, it helps them combine existing programs in new ways and automate repetitive tasks so they aren't typing the same things over and over again. Use of the shell is fundamental to using a wide range of other powerful tools and computing resources (including \"high-performance computing\" supercomputers). These lessons will start you on a path towards using these resources effectively."
   ]
  },
  {
   "cell_type": "markdown",
   "metadata": {
    "slideshow": {
     "slide_type": "subslide"
    }
   },
   "source": [
    "## Prerequisites\n",
    "\n",
    "This lesson guides you through the basics of file systems and the shell. If you have stored files on a computer at all and recognize the word \"file\" and either \"directory\" or \"folder\" (two common words for the same thing), you're ready for this lesson, please follow the setup section below.\n",
    "\n",
    "If you're already comfortable manipulating files and directories, searching for files with grep and find, and writing simple loops and scripts, you probably want to explore the next lesson."
   ]
  },
  {
   "cell_type": "markdown",
   "metadata": {
    "slideshow": {
     "slide_type": "slide"
    }
   },
   "source": [
    "## Schedule\n",
    "Approximate timings for the course:\n",
    "\n",
    "| Time | Episode | Description |\n",
    "|---|---|---|\n",
    "| 0:00 | [Introducing the Shell](./01_intro.ipynb) | What is a command shell and why would I use one? |\n",
    "| 0:10 | [Logging onto linux.bath](./02_linux_bath.ipynb) | How can I logon to the University linux service? |\n",
    "| 0:15 | [Navigating Files and Directories](./03_navigatingFD.ipynb) | How can I move around on my computer? |\n",
    "|  -   |                     -                                 | How can I see what files and directories I have?|\n",
    "|  -   |                     -                                 | How can I specify the location of a file or directory on my computer?  |\n",
    "| 0:45 | [Working with Files and Directories](./04_workingFD.ipynb) | How can I create, copy, and delete files and directories? |\n",
    "|  -   |                     -                                      |How can I edit files? |\n",
    "| 1:35 | [Pipes and Filters](./04_pipesNfilters.ipynb) | How can I combine existing commands to do new things? |\n",
    "| 2:10 | [Finding Things](./05_findingThings.ipynb) | How can I find files? |\n",
    "|  -   |                     -                      |How can I find things in files? |\n",
    "| 2:55 | Finish | |"
   ]
  },
  {
   "cell_type": "markdown",
   "metadata": {
    "slideshow": {
     "slide_type": "fragment"
    }
   },
   "source": [
    "Terms and conditions may apply, instuctors may go too fast, wheels might fall off etc, etc..."
   ]
  },
  {
   "cell_type": "markdown",
   "metadata": {
    "slideshow": {
     "slide_type": "slide"
    }
   },
   "source": [
    "## Setup\n",
    "We recommend you follow this course in a jupyter notebook which includes the course material and it's own terminal. If for whatever reason you don't see below for setup on your own machine."
   ]
  },
  {
   "cell_type": "markdown",
   "metadata": {
    "slideshow": {
     "slide_type": "slide"
    }
   },
   "source": [
    "### Jupyter Notebook\n",
    "Jupyter notebooks contain bash 'magic' which executes terminal commands within the jupyter interface. We have modified one of these for the purpose of this training, so where you see `%%bash2` this is what you should run in a terminal."
   ]
  },
  {
   "cell_type": "code",
   "execution_count": 1,
   "metadata": {
    "slideshow": {
     "slide_type": "fragment"
    }
   },
   "outputs": [
    {
     "name": "stdout",
     "output_type": "stream",
     "text": [
      "This will be output\n"
     ]
    }
   ],
   "source": [
    "%%bash2\n",
    "# This is a comment\n",
    "echo \"This will be output\""
   ]
  },
  {
   "cell_type": "markdown",
   "metadata": {
    "slideshow": {
     "slide_type": "slide"
    }
   },
   "source": [
    "You can also use the `%%bash2` magic to keep your solutions to exercises in the notebook as a record. They will still be executed at the command line, so be careful! We can extract the files for this training by unzipping the `data-shell.zip` file in the repository. This can be done by executing the cell below:"
   ]
  },
  {
   "cell_type": "code",
   "execution_count": 2,
   "metadata": {
    "slideshow": {
     "slide_type": "fragment"
    }
   },
   "outputs": [],
   "source": [
    "%%bash2 --dir ..\n",
    "unzip -q data-shell.zip "
   ]
  },
  {
   "cell_type": "markdown",
   "metadata": {
    "slideshow": {
     "slide_type": "slide"
    }
   },
   "source": [
    "We can check this has suceeded by changing into the newly created `data-shell` directory, using the `bash2` magic and listing the contents (see the first lesson for more information)."
   ]
  },
  {
   "cell_type": "code",
   "execution_count": 3,
   "metadata": {
    "slideshow": {
     "slide_type": "fragment"
    }
   },
   "outputs": [
    {
     "name": "stdout",
     "output_type": "stream",
     "text": [
      "creatures\n",
      "data\n",
      "molecules\n",
      "north-pacific-gyre\n",
      "notes.txt\n",
      "pizza.cfg\n",
      "solar.pdf\n",
      "writing\n"
     ]
    }
   ],
   "source": [
    "%%bash2 --dir data-shell\n",
    "ls"
   ]
  },
  {
   "cell_type": "markdown",
   "metadata": {
    "slideshow": {
     "slide_type": "fragment"
    }
   },
   "source": [
    "You are now ready to begin lesson 1."
   ]
  },
  {
   "cell_type": "markdown",
   "metadata": {
    "slideshow": {
     "slide_type": "skip"
    }
   },
   "source": [
    "### Personal Machine\n",
    "You need to download some files to follow this lesson:\n",
    "\n",
    "1. Download [data-shell.zip](../data-shell.zip) and move the file to your Desktop.\n",
    "2. Unzip/extract the file (ask your instructor if you need help with this step). You should end up with a new folder called data-shell on your Desktop.\n",
    "3. Open a terminal and type `cd`, then press the Enter key. That last step will make sure you start with your home folder as your working directory.\n",
    "\n",
    "In the lesson, you will find out how to access the data in this folder."
   ]
  },
  {
   "cell_type": "markdown",
   "metadata": {
    "slideshow": {
     "slide_type": "skip"
    }
   },
   "source": [
    "## Information: Where to type commands: How to open a new shell\n",
    "The shell is a program that enables us to send commands to the computer and receive output. It is also referred to as the terminal or command line.\n",
    "\n",
    "Some computers include a default Unix Shell program. The steps below describe some methods for identifying and opening a Unix Shell program if you already have one installed. There are also options for identifying and downloading a Unix Shell program, a Linux/UNIX emulator, or a program to access a Unix Shell on a server.\n",
    "\n",
    "If none of the options below address your circumstances, try an online search for: Unix shell [your computer model] [your operating system].\n",
    "\n",
    "#### Linux\n",
    "The default Unix Shell for Linux operating systems is usually Bash. On most versions of Linux, it is accessible by running the (Gnome) Terminal or (KDE) Konsole or xterm, which can be found via the applications menu or the search bar. If your machine is set up to use something other than bash, you can run it by opening a terminal and typing bash.\n",
    "\n",
    "#### Mac OS\n",
    "For a Mac computer, the default Unix Shell is Bash, and it is available via the Terminal Utilities program within your Applications folder.\n",
    "\n",
    "To open Terminal, try one or both of the following:\n",
    "\n",
    "Go to your Applications. Within Applications, open the Utilities folder. Locate Terminal in the Utilities folder and open it.\n",
    "\n",
    "Use the Mac 'Spotlight' computer search function. Search for: Terminal and press `Return`.\n",
    "\n",
    "##### Reference\n",
    "- How to Use Terminal on a Mac\n",
    "    \n",
    "#### Windows\n",
    "Computers with Windows operating systems do not automatically have a Unix Shell program installed. In this lesson, we encourage you to use an emulator included in Git for Windows, which gives you access to both Bash shell commands and Git. If you are attending a Software Carpentry workshop session, it is likely you have already received instructions on how to install Git for Windows.\n",
    "\n",
    "Once installed, you can open a terminal by running the program Git Bash from the Windows start menu.\n",
    "\n",
    "Other solutions are available for running Bash commands on Windows. There is now a Bash shell command-line tool available for Windows 10. Additionally, you can run Bash commands on a remote computer or server that already has a Unix Shell, from your Windows machine. This can usually be done through a Secure Shell (SSH) client. One such client available for free for Windows computers is PuTTY. See the reference below for information on installing and using PuTTY, using the Windows 10 command-line tool, or installing and using a Unix/Linux emulator.\n",
    "\n",
    "##### Reference\n",
    "- Git for Windows\n",
    "- How to Install Bash shell command-line tool on Windows 10\n",
    "- Install and Use the Linux Bash Shell on Windows 10\n",
    "- Using the Windows 10 Bash Shell\n",
    "- Using a Unix/Linux emulator (Cygwin) or Secure Shell (SSH) client (Putty)"
   ]
  }
 ],
 "metadata": {
  "celltoolbar": "Slideshow",
  "kernelspec": {
   "display_name": "Python 3",
   "language": "python",
   "name": "python3"
  },
  "language_info": {
   "codemirror_mode": {
    "name": "ipython",
    "version": 3
   },
   "file_extension": ".py",
   "mimetype": "text/x-python",
   "name": "python",
   "nbconvert_exporter": "python",
   "pygments_lexer": "ipython3",
   "version": "3.6.6"
  }
 },
 "nbformat": 4,
 "nbformat_minor": 2
}
